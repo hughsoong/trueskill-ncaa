{
 "cells": [
  {
   "cell_type": "markdown",
   "metadata": {},
   "source": [
    "# Loading initial packages"
   ]
  },
  {
   "cell_type": "code",
   "execution_count": 3,
   "metadata": {
    "collapsed": false
   },
   "outputs": [],
   "source": [
    "import re\n",
    "import numpy as np\n",
    "import pandas as pd\n",
    "import scipy\n",
    "import sklearn\n",
    "#from pandas.stats.api import ols\n",
    "from subprocess import check_output\n",
    "try:\n",
    "    import statsmodels.formula.api as sm\n",
    "except ImportError:\n",
    "    import scikits.statsmodels.api as sm"
   ]
  },
  {
   "cell_type": "markdown",
   "metadata": {
    "collapsed": true
   },
   "source": [
    "# Reading in the data"
   ]
  },
  {
   "cell_type": "code",
   "execution_count": 4,
   "metadata": {
    "collapsed": false
   },
   "outputs": [],
   "source": [
    "TourneySeeds = pd.read_csv('data/TourneySeeds.csv')\n",
    "SampleSubmission = pd.read_csv('data/SampleSubmission.csv')\n",
    "Seasons = pd.read_csv('data/Seasons.csv')\n",
    "Teams = pd.read_csv('data/Teams.csv')\n",
    "TourneySlots = pd.read_csv('data/TourneySlots.csv')\n",
    "TourneyDetailedResults = pd.read_csv('data/TourneyDetailedResults.csv')\n",
    "TourneyCompactResults = pd.read_csv('data/TourneyCompactResults.csv')\n",
    "team_dict = dict(zip(Teams['Team_Id'].values, Teams['Team_Name'].values))\n",
    "RegularSeasonCompact = pd.read_csv('data/RegularSeasonCompactResults.csv')\n",
    "TourneyDetailedResults['Wteam_name'] = TourneyDetailedResults['Wteam'].map(team_dict)\n",
    "TourneyDetailedResults['Lteam_name'] = TourneyDetailedResults['Lteam'].map(team_dict)"
   ]
  },
  {
   "cell_type": "markdown",
   "metadata": {},
   "source": [
    "# A quick look at the data"
   ]
  },
  {
   "cell_type": "code",
   "execution_count": 12,
   "metadata": {
    "collapsed": false
   },
   "outputs": [
    {
     "name": "stdout",
     "output_type": "stream",
     "text": [
      "   Season Seed  Team\n",
      "0    1985  W01  1207\n",
      "1    1985  W02  1210\n",
      "2    1985  W03  1228\n",
      "3    1985  W04  1260\n",
      "4    1985  W05  1374\n",
      "5    1985  W06  1208\n",
      "   Season  Slot Strongseed Weakseed\n",
      "0    1985  R1W1        W01      W16\n",
      "1    1985  R1W2        W02      W15\n",
      "2    1985  R1W3        W03      W14\n",
      "3    1985  R1W4        W04      W13\n",
      "4    1985  R1W5        W05      W12\n",
      "5    1985  R1W6        W06      W11\n",
      "               Id  Pred\n",
      "0  2016_1112_1114   0.5\n",
      "1  2016_1112_1122   0.5\n",
      "2  2016_1112_1124   0.5\n",
      "3  2016_1112_1138   0.5\n",
      "4  2016_1112_1139   0.5\n",
      "5  2016_1112_1143   0.5\n",
      "   Season     Dayzero Regionw    Regionx    Regiony    Regionz\n",
      "0    1985  10/29/1984    East       West    Midwest  Southeast\n",
      "1    1986  10/28/1985    East    Midwest  Southeast       West\n",
      "2    1987  10/27/1986    East  Southeast    Midwest       West\n",
      "3    1988   11/2/1987    East    Midwest  Southeast       West\n",
      "4    1989  10/31/1988    East       West    Midwest  Southeast\n",
      "5    1990  10/30/1989    East    Midwest  Southeast       West\n",
      "   Team_Id    Team_Name\n",
      "0     1101  Abilene Chr\n",
      "1     1102    Air Force\n",
      "2     1103        Akron\n",
      "3     1104      Alabama\n",
      "4     1105  Alabama A&M\n",
      "5     1106   Alabama St\n",
      "   Season  Daynum  Wteam  Wscore  Lteam  Lscore Wloc  Numot  Wfgm  Wfga  \\\n",
      "0    2003     134   1421      92   1411      84    N      1    32    69   \n",
      "1    2003     136   1112      80   1436      51    N      0    31    66   \n",
      "2    2003     136   1113      84   1272      71    N      0    31    59   \n",
      "3    2003     136   1141      79   1166      73    N      0    29    53   \n",
      "4    2003     136   1143      76   1301      74    N      1    27    64   \n",
      "5    2003     136   1163      58   1140      53    N      0    17    52   \n",
      "\n",
      "      ...       Lfta  Lor  Ldr  Last  Lto  Lstl  Lblk  Lpf     Wteam_name  \\\n",
      "0     ...         31   17   28    16   15     5     0   22  UNC Asheville   \n",
      "1     ...          7    8   26    12   17    10     3   15        Arizona   \n",
      "2     ...         21   20   22    11   12     2     5   18     Arizona St   \n",
      "3     ...         17   14   17    20   21     6     6   21     C Michigan   \n",
      "4     ...         20   10   26    16   14     5     8   19     California   \n",
      "5     ...         13   15   26    11   11     8     4   22    Connecticut   \n",
      "\n",
      "    Lteam_name  \n",
      "0  TX Southern  \n",
      "1      Vermont  \n",
      "2      Memphis  \n",
      "3    Creighton  \n",
      "4     NC State  \n",
      "5          BYU  \n",
      "\n",
      "[6 rows x 36 columns]\n",
      "   Season  Daynum  Wteam  Wscore  Lteam  Lscore Wloc  Numot\n",
      "0    1985     136   1116      63   1234      54    N      0\n",
      "1    1985     136   1120      59   1345      58    N      0\n",
      "2    1985     136   1207      68   1250      43    N      0\n",
      "3    1985     136   1229      58   1425      55    N      0\n",
      "4    1985     136   1242      49   1325      38    N      0\n",
      "5    1985     136   1246      66   1449      58    N      0\n"
     ]
    }
   ],
   "source": [
    "print(TourneySeeds.head(6))\n",
    "print(TourneySlots.head(6))\n",
    "print(SampleSubmission.head(6))\n",
    "print(Seasons.head(6))\n",
    "print(Teams.head(6))\n",
    "print(TourneyDetailedResults.head(6))\n",
    "print(TourneyCompactResults.head(6))"
   ]
  },
  {
   "cell_type": "markdown",
   "metadata": {},
   "source": [
    "# TrueSkill"
   ]
  },
  {
   "cell_type": "markdown",
   "metadata": {},
   "source": [
    "## Add the package"
   ]
  },
  {
   "cell_type": "code",
   "execution_count": 17,
   "metadata": {
    "collapsed": false
   },
   "outputs": [
    {
     "name": "stdout",
     "output_type": "stream",
     "text": [
      "trueskill.TrueSkill(mu=25.000, sigma=8.333, beta=4.167, tau=0.083, draw_probability=44.0%)\n",
      "[2008, 2009, 2010, 2011, 2012, 2013, 2014, 2015, 2016]\n"
     ]
    }
   ],
   "source": [
    "import trueskill\n",
    "from trueskill import Rating, global_env, rate_1vs1\n",
    "env = trueskill.TrueSkill(draw_probability=0.44)\n",
    "env.make_as_global()\n",
    "print(global_env())\n",
    "\n",
    "seasons = [2008,2009,2010,2011,2012,2013,2014,2015,2016]\n",
    "print(seasons)"
   ]
  },
  {
   "cell_type": "markdown",
   "metadata": {},
   "source": [
    "## Data Cleaning\n",
    "- Remove all games before 2008 (three point line was introduced)"
   ]
  },
  {
   "cell_type": "code",
   "execution_count": 16,
   "metadata": {
    "collapsed": false
   },
   "outputs": [
    {
     "name": "stdout",
     "output_type": "stream",
     "text": [
      "       Season  Daynum  Wteam  Wscore  Lteam  Lscore Wloc  Numot\n",
      "97710    2008       0   1272     102   1404      71    H      0\n",
      "97711    2008       0   1350      44   1263      42    N      0\n",
      "97712    2008       1   1205      69   1105      55    N      0\n",
      "97713    2008       1   1246      67   1146      40    H      0\n",
      "97714    2008       1   1272      80   1350      63    H      0\n",
      "97715    2008       1   1404      66   1263      62    N      0\n",
      "        Season  Daynum  Wteam  Wscore  Lteam  Lscore Wloc  Numot\n",
      "145283    2016     131   1451      62   1285      59    N      0\n",
      "145284    2016     132   1114      70   1419      50    N      0\n",
      "145285    2016     132   1163      72   1272      58    N      0\n",
      "145286    2016     132   1246      82   1401      77    N      1\n",
      "145287    2016     132   1277      66   1345      62    N      0\n",
      "145288    2016     132   1386      87   1433      74    N      0\n"
     ]
    }
   ],
   "source": [
    "# all games after 2008\n",
    "RegPost2008 = RegularSeasonCompact[RegularSeasonCompact['Season'] >= 2008]\n",
    "print(RegPost2008.head(6))\n",
    "print(RegPost2008.tail(6))"
   ]
  },
  {
   "cell_type": "markdown",
   "metadata": {},
   "source": [
    "## Apply TrueSkill to season data\n",
    "- For each season, calculate the TrueSkill of each team in the season"
   ]
  },
  {
   "cell_type": "code",
   "execution_count": 13,
   "metadata": {
    "collapsed": false
   },
   "outputs": [
    {
     "name": "stdout",
     "output_type": "stream",
     "text": [
      "   Team_Id    Team_Name  Rating2008Mu  Rating2008Sigma\n",
      "0     1101  Abilene Chr            25         8.333333\n",
      "1     1102    Air Force            25         8.333333\n",
      "2     1103        Akron            25         8.333333\n",
      "3     1104      Alabama            25         8.333333\n",
      "4     1105  Alabama A&M            25         8.333333\n",
      "5     1106   Alabama St            25         8.333333\n"
     ]
    }
   ],
   "source": [
    "# for each season\n",
    "# calculate trueskill of all teams, then add it to the game log\n",
    "# instantiate ratings for all teams and add it to the dataframe\n",
    "\n",
    "for season in seasons:\n",
    "    # get all the games in the season\n",
    "    # print(\"Number of games in 2008:\", len(RegPost2008[RegPost2008['Season'] == 2008]))\n",
    "    SeasonGames = RegPost2008.loc[RegPost2008['Season'] == season,:]\n",
    "    #print(\"sanity check: \", RegGames2008['Season'].count())\n",
    "    Teams['Mu'] = Rating().mu\n",
    "    Teams['Sigma'] = Rating().sigma\n",
    "    print(Teams.head(6))\n",
    "    \n",
    "    for i, row in RegGames2008.iterrows():\n",
    "        (team1, team2) = (row['Wteam'], row['Lteam'])\n",
    "        #print('result:', row)\n",
    "    \n",
    "        # get index from team list\n",
    "        iteam1 = Teams[Teams['Team_Id'] == team1].index[0]\n",
    "        iteam2 = Teams[Teams['Team_Id'] == team2].index[0]\n",
    "    \n",
    "        # initialize rating object\n",
    "        rating1 = Rating(Teams['Rating2008Mu'][iteam1],Teams['Rating2008Sigma'][iteam1])\n",
    "        rating2 = Rating(Teams['Rating2008Mu'][iteam2],Teams['Rating2008Sigma'][iteam2])\n",
    "        #print('old:',rating1.mu)\n",
    "        #print('old:',rating2.mu)\n",
    "    \n",
    "        # rate them (unless it is a draw)\n",
    "        if (row['Wscore'] == row['Lscore']):\n",
    "            (rating1, rating2) = rate_1vs1(rating1, rating2, drawn=True)\n",
    "        else:\n",
    "            (rating1, rating2) = rate_1vs1(rating1, rating2)\n",
    "    \n",
    "        # update mu's and sigma's of the two teams\n",
    "        Teams.loc[iteam1,'Rating2008Mu'] = rating1.mu\n",
    "        Teams.loc[iteam1,'Rating2008Sigma'] = rating1.sigma\n",
    "        Teams.loc[iteam2,'Rating2008Mu'] = rating2.mu\n",
    "        Teams.loc[iteam2,'Rating2008Sigma'] = rating2.sigma\n",
    "    \n",
    "        #print('new1:', Teams.loc[iteam1,'Rating2008Mu'])\n",
    "        #print('new2:', Teams.loc[iteam2,'Rating2008Mu'])\n",
    "        #count = count+1\n",
    "        #if count > 30:\n",
    "        #    break\n",
    "\n",
    "        \n",
    "        #Teams.to_csv('2008trueskills.csv',index=False)\n",
    "        print(Teams.head(6))\n"
   ]
  },
  {
   "cell_type": "code",
   "execution_count": 14,
   "metadata": {
    "collapsed": false,
    "scrolled": false
   },
   "outputs": [
    {
     "name": "stdout",
     "output_type": "stream",
     "text": [
      "   Team_Id    Team_Name  Rating2008Mu  Rating2008Sigma\n",
      "0     1101  Abilene Chr     25.000000         8.333333\n",
      "1     1102    Air Force     27.255425         1.669827\n",
      "2     1103        Akron     29.496638         1.547358\n",
      "3     1104      Alabama     30.604314         1.493172\n",
      "4     1105  Alabama A&M     15.322018         1.716729\n",
      "5     1106   Alabama St     18.897214         1.699073\n"
     ]
    }
   ],
   "source": [
    "#for each game in 2008, apply trueskill and update rating\n",
    "count = 0\n",
    "\n",
    "for i, row in RegGames2008.iterrows():\n",
    "    (team1, team2) = (row['Wteam'], row['Lteam'])\n",
    "    #print('result:', row)\n",
    "    \n",
    "    # get index from team list\n",
    "    iteam1 = Teams[Teams['Team_Id'] == team1].index[0]\n",
    "    iteam2 = Teams[Teams['Team_Id'] == team2].index[0]\n",
    "    \n",
    "    # initialize rating object\n",
    "    rating1 = Rating(Teams['Rating2008Mu'][iteam1],Teams['Rating2008Sigma'][iteam1])\n",
    "    rating2 = Rating(Teams['Rating2008Mu'][iteam2],Teams['Rating2008Sigma'][iteam2])\n",
    "    #print('old:',rating1.mu)\n",
    "    #print('old:',rating2.mu)\n",
    "    \n",
    "    # rate them (unless it is a draw)\n",
    "    if (row['Wscore'] == row['Lscore']):\n",
    "        (rating1, rating2) = rate_1vs1(rating1, rating2, drawn=True)\n",
    "    else:\n",
    "        (rating1, rating2) = rate_1vs1(rating1, rating2)\n",
    "    \n",
    "    # update mu's and sigma's of the two teams\n",
    "    Teams.loc[iteam1,'Rating2008Mu'] = rating1.mu\n",
    "    Teams.loc[iteam1,'Rating2008Sigma'] = rating1.sigma\n",
    "    Teams.loc[iteam2,'Rating2008Mu'] = rating2.mu\n",
    "    Teams.loc[iteam2,'Rating2008Sigma'] = rating2.sigma\n",
    "\n",
    "    #print('new1:', Teams.loc[iteam1,'Rating2008Mu'])\n",
    "    #print('new2:', Teams.loc[iteam2,'Rating2008Mu'])\n",
    "    #count = count+1\n",
    "    #if count > 30:\n",
    "    #    break\n",
    "\n",
    "print(Teams.head(6))\n",
    "Teams.to_csv('2008trueskills.csv',index=False)"
   ]
  },
  {
   "cell_type": "markdown",
   "metadata": {},
   "source": [
    "## Predict margin of victory for each matchup using TrueSkill"
   ]
  },
  {
   "cell_type": "code",
   "execution_count": 25,
   "metadata": {
    "collapsed": false
   },
   "outputs": [
    {
     "name": "stdout",
     "output_type": "stream",
     "text": [
      "       Season  Daynum  Wteam  Wscore  Lteam  Lscore Wloc  Numot  MOV\n",
      "97710    2008       0   1272     102   1404      71    H      0   31\n",
      "97711    2008       0   1350      44   1263      42    N      0    2\n",
      "97712    2008       1   1205      69   1105      55    N      0   14\n",
      "97713    2008       1   1246      67   1146      40    H      0   27\n",
      "97714    2008       1   1272      80   1350      63    H      0   17\n",
      "97715    2008       1   1404      66   1263      62    N      0    4\n",
      "   Wteam         Wm        Ws\n",
      "0   1101  25.000000  8.333333\n",
      "1   1102  27.255425  1.669827\n",
      "2   1103  29.496638  1.547358\n",
      "3   1104  30.604314  1.493172\n",
      "4   1105  15.322018  1.716729\n",
      "5   1106  18.897214  1.699073\n",
      "   Season  Daynum  Wteam  Wscore  Lteam  Lscore Wloc  Numot  MOV         Wm  \\\n",
      "0    2008       0   1272     102   1404      71    H      0   31  45.957676   \n",
      "1    2008       0   1350      44   1263      42    N      0    2  29.093627   \n",
      "2    2008       1   1205      69   1105      55    N      0   14  20.426175   \n",
      "3    2008       1   1246      67   1146      40    H      0   27  33.682767   \n",
      "4    2008       1   1272      80   1350      63    H      0   17  45.957676   \n",
      "5    2008       1   1404      66   1263      62    N      0    4  19.674485   \n",
      "\n",
      "         Ws         Lm        Ls  \n",
      "0  2.505300  19.674485  1.541764  \n",
      "1  1.573445  13.615163  1.612606  \n",
      "2  1.510871  15.322018  1.716729  \n",
      "3  1.565100  17.062774  1.686124  \n",
      "4  2.505300  29.093627  1.573445  \n",
      "5  1.541764  13.615163  1.612606  \n"
     ]
    },
    {
     "name": "stderr",
     "output_type": "stream",
     "text": [
      "C:\\Users\\hughsoong\\Anaconda3\\lib\\site-packages\\ipykernel\\__main__.py:2: SettingWithCopyWarning: \n",
      "A value is trying to be set on a copy of a slice from a DataFrame.\n",
      "Try using .loc[row_indexer,col_indexer] = value instead\n",
      "\n",
      "See the caveats in the documentation: http://pandas.pydata.org/pandas-docs/stable/indexing.html#indexing-view-versus-copy\n",
      "  from ipykernel import kernelapp as app\n"
     ]
    }
   ],
   "source": [
    "# calculate margin of victory for each game\n",
    "RegGames2008['MOV'] = RegGames2008.Wscore-RegGames2008.Lscore\n",
    "print(RegGames2008.head(6))\n",
    "\n",
    "count = 0\n",
    "# add trueskill ratings for each team\n",
    "# winning teams\n",
    "\n",
    "Team1=pd.concat([Teams['Team_Id'], Teams['Rating2008Mu'], Teams['Rating2008Sigma']], axis=1, keys=['Wteam', 'Wm', 'Ws'])\n",
    "Team2=pd.concat([Teams['Team_Id'], Teams['Rating2008Mu'], Teams['Rating2008Sigma']], axis=1, keys=['Lteam', 'Lm', 'Ls'])\n",
    "print(Team1.head(6))\n",
    "\n",
    "#for i, row in RegGames2008.iterrows():\n",
    "#    (team1, team2) = (row['Wteam'], row['Lteam'])\n",
    "#    # get index from team list\n",
    "#    iteam1 = Teams[Teams['Team_Id'] == team1].index[0]\n",
    "#    iteam2 = Teams[Teams['Team_Id'] == team2].index[0]\n",
    "#    \n",
    "#    RegGames2008.loc[i,'Wm'] = Teams['Rating2008Mu'][iteam1]\n",
    "#    RegGames2008.loc[i,'Ws'] = Teams['Rating2008Sigma'][iteam1]\n",
    "#    RegGames2008.loc[i,'Lm'] = Teams['Rating2008Mu'][iteam2]\n",
    "#    RegGames2008.loc[i,'Ls'] = Teams['Rating2008Sigma'][iteam2]\n",
    "#    if (i % 200 == 0):\n",
    "#        print(i)\n",
    "\n",
    "RegGames2008 = RegGames2008.merge(Team1, on='Wteam', how='left').merge(Team2, on='Lteam', how='left')\n",
    "print (RegGames2008.head(6))\n",
    "\n",
    "    \n",
    "#RegGames2008['Wm'] = Teams.loc[Teams['Team_Id']== RegGames2008['Wteam']]"
   ]
  },
  {
   "cell_type": "markdown",
   "metadata": {},
   "source": [
    "## Linear Model: MOV ~ Wm + Ws + Lm + Ls"
   ]
  },
  {
   "cell_type": "code",
   "execution_count": 39,
   "metadata": {
    "collapsed": false
   },
   "outputs": [
    {
     "name": "stdout",
     "output_type": "stream",
     "text": [
      "                            OLS Regression Results                            \n",
      "==============================================================================\n",
      "Dep. Variable:                    MOV   R-squared:                       0.227\n",
      "Model:                            OLS   Adj. R-squared:                  0.227\n",
      "Method:                 Least Squares   F-statistic:                     757.9\n",
      "Date:                Tue, 15 Mar 2016   Prob (F-statistic):          2.55e-289\n",
      "Time:                        23:17:48   Log-Likelihood:                -18272.\n",
      "No. Observations:                5163   AIC:                         3.655e+04\n",
      "Df Residuals:                    5160   BIC:                         3.657e+04\n",
      "Df Model:                           2                                         \n",
      "Covariance Type:            nonrobust                                         \n",
      "==============================================================================\n",
      "                 coef    std err          t      P>|t|      [95.0% Conf. Int.]\n",
      "------------------------------------------------------------------------------\n",
      "Intercept      8.8198      0.489     18.043      0.000         7.861     9.778\n",
      "Wm             0.6479      0.019     34.715      0.000         0.611     0.684\n",
      "Lm            -0.6403      0.019    -33.116      0.000        -0.678    -0.602\n",
      "==============================================================================\n",
      "Omnibus:                      899.159   Durbin-Watson:                   1.934\n",
      "Prob(Omnibus):                  0.000   Jarque-Bera (JB):             1765.726\n",
      "Skew:                           1.058   Prob(JB):                         0.00\n",
      "Kurtosis:                       4.932   Cond. No.                         156.\n",
      "==============================================================================\n",
      "\n",
      "Warnings:\n",
      "[1] Standard Errors assume that the covariance matrix of the errors is correctly specified.\n"
     ]
    }
   ],
   "source": [
    "linmodel=sm.ols(formula = \"MOV ~ Wm + Lm\",data=RegGames2008).fit()\n",
    "print(linmodel.summary())\n",
    "#print(linmodel)"
   ]
  },
  {
   "cell_type": "markdown",
   "metadata": {},
   "source": [
    "# (EXAMPLE) Seed-Based model"
   ]
  },
  {
   "cell_type": "markdown",
   "metadata": {},
   "source": [
    "## Extract seeds for each team"
   ]
  },
  {
   "cell_type": "code",
   "execution_count": 10,
   "metadata": {
    "collapsed": false
   },
   "outputs": [
    {
     "name": "stdout",
     "output_type": "stream",
     "text": [
      "      Season  Seed  Team SeedNum\n",
      "2072    2016   Z08  1386      08\n",
      "2073    2016   Z09  1153      09\n",
      "2074    2016   Z10  1433      10\n",
      "2075    2016   Z11  1320      11\n",
      "2076    2016   Z12  1463      12\n",
      "2077    2016   Z13  1423      13\n",
      "2078    2016   Z14  1453      14\n",
      "2079    2016   Z15  1167      15\n",
      "2080    2016  Z16a  1221      16\n",
      "2081    2016  Z16b  1380      16\n"
     ]
    }
   ],
   "source": [
    "TourneySeeds['SeedNum'] = TourneySeeds['Seed'].apply(lambda x: re.sub(\"[A-z+a-z]\",\"\",x,flags=re.IGNORECASE))\n",
    "print(TourneySeeds.tail(10))"
   ]
  },
  {
   "cell_type": "code",
   "execution_count": 11,
   "metadata": {
    "collapsed": false
   },
   "outputs": [
    {
     "name": "stdout",
     "output_type": "stream",
     "text": [
      "               Id  season  team1  team2  TeamSeed1  TeamSeed2\n",
      "0  2016_1112_1114    2016   1112   1114          6         12\n",
      "1  2016_1112_1122    2016   1112   1122          6         16\n",
      "2  2016_1112_1124    2016   1112   1124          6          5\n",
      "3  2016_1112_1138    2016   1112   1138          6         14\n",
      "4  2016_1112_1139    2016   1112   1139          6          9\n",
      "5  2016_1112_1143    2016   1112   1143          6          4\n",
      "6  2016_1112_1151    2016   1112   1151          6         12\n",
      "7  2016_1112_1153    2016   1112   1153          6          9\n",
      "8  2016_1112_1160    2016   1112   1160          6          8\n",
      "9  2016_1112_1163    2016   1112   1163          6          9\n"
     ]
    }
   ],
   "source": [
    "game_to_predict = pd.concat([SampleSubmission['Id'],SampleSubmission['Id'].str.split('_', expand=True)], axis=1)\n",
    "game_to_predict.rename(columns={0: 'season', 1: 'team1',2: 'team2'}, inplace=True)\n",
    "game_to_predict['season'] = pd.to_numeric(game_to_predict['season'])\n",
    "game_to_predict['team1'] = pd.to_numeric(game_to_predict['team1'])\n",
    "game_to_predict['team2'] = pd.to_numeric(game_to_predict['team2'])\n",
    "TourneySeeds['Season'] = pd.to_numeric(TourneySeeds['Season'])\n",
    "TourneySeeds['Team'] = pd.to_numeric(TourneySeeds['Team'])\n",
    "TourneySeeds['SeedNum'] = pd.to_numeric(TourneySeeds['SeedNum'])\n",
    "game_to_predict = pd.merge(game_to_predict,TourneySeeds[['Season','Team','SeedNum']].rename(columns={'Season': 'season', 'Team': 'team1','SeedNum':'TeamSeed1'}),how='left',on=['season','team1'])\n",
    "game_to_predict = pd.merge(game_to_predict,TourneySeeds[['Season','Team','SeedNum']].rename(columns={'Season': 'season', 'Team': 'team2','SeedNum':'TeamSeed2'}),how='left',on=['season','team2'])\n",
    "print(game_to_predict.head(10))"
   ]
  },
  {
   "cell_type": "markdown",
   "metadata": {},
   "source": [
    "## Join results to seeds"
   ]
  },
  {
   "cell_type": "code",
   "execution_count": 12,
   "metadata": {
    "collapsed": false
   },
   "outputs": [
    {
     "name": "stdout",
     "output_type": "stream",
     "text": [
      "   Season  Daynum  Wteam  Wscore  Lteam  Lscore Wloc  Numot  WSeedNum  \\\n",
      "0    1985     136   1116      63   1234      54    N      0         9   \n",
      "1    1985     136   1120      59   1345      58    N      0        11   \n",
      "2    1985     136   1207      68   1250      43    N      0         1   \n",
      "3    1985     136   1229      58   1425      55    N      0         9   \n",
      "4    1985     136   1242      49   1325      38    N      0         3   \n",
      "5    1985     136   1246      66   1449      58    N      0        12   \n",
      "\n",
      "   LSeedNum  \n",
      "0         8  \n",
      "1         6  \n",
      "2        16  \n",
      "3         8  \n",
      "4        14  \n",
      "5         5  \n"
     ]
    }
   ],
   "source": [
    "compact_results = pd.merge(TourneyCompactResults, TourneySeeds[['Season','Team','SeedNum']].rename(columns={'Team': 'Wteam','SeedNum':'WSeedNum'}), how='left', on=['Season','Wteam'])\n",
    "compact_results = pd.merge(compact_results, TourneySeeds[['Season','Team','SeedNum']].rename(columns={'Team': 'Lteam','SeedNum':'LSeedNum'}), how='left', on=['Season','Lteam'])\n",
    "print(compact_results.head(6))"
   ]
  },
  {
   "cell_type": "markdown",
   "metadata": {},
   "source": [
    "## Fix wins"
   ]
  },
  {
   "cell_type": "code",
   "execution_count": 13,
   "metadata": {
    "collapsed": false
   },
   "outputs": [
    {
     "name": "stdout",
     "output_type": "stream",
     "text": [
      "   Team1Seed  Team2Seed  Team1Win\n",
      "0          9          8         1\n",
      "1         11          6         1\n",
      "2          1         16         1\n",
      "3          9          8         1\n",
      "4          3         14         1\n",
      "5         12          5         1\n"
     ]
    }
   ],
   "source": [
    "set1 = compact_results[['WSeedNum','LSeedNum']].rename(columns={'WSeedNum': 'Team1Seed','LSeedNum':'Team2Seed'})\n",
    "set1['Team1Win'] = 1\n",
    "set2 = compact_results[['LSeedNum','WSeedNum']].rename(columns={'LSeedNum': 'Team1Seed','WSeedNum':'Team2Seed'})\n",
    "set2['Team1Win'] = 0\n",
    "full_set = pd.concat([set1,set2],ignore_index=True)\n",
    "full_set['Team1Seed'] = pd.to_numeric(full_set['Team1Seed'])\n",
    "full_set['Team2Seed'] = pd.to_numeric(full_set['Team2Seed'])\n",
    "full_set['Team1Win'] = pd.to_numeric(full_set['Team1Win'])\n",
    "\n",
    "print(full_set.head(6))"
   ]
  },
  {
   "cell_type": "markdown",
   "metadata": {},
   "source": [
    "## Linear model"
   ]
  },
  {
   "cell_type": "code",
   "execution_count": 14,
   "metadata": {
    "collapsed": false
   },
   "outputs": [
    {
     "name": "stdout",
     "output_type": "stream",
     "text": [
      "\n",
      "-------------------------Summary of Regression Analysis-------------------------\n",
      "\n",
      "Formula: Y ~ <x> + <intercept>\n",
      "\n",
      "Number of Observations:         3966\n",
      "Number of Degrees of Freedom:   2\n",
      "\n",
      "R-squared:         0.2525\n",
      "Adj R-squared:     0.2523\n",
      "\n",
      "Rmse:              0.4324\n",
      "\n",
      "F-stat (1, 3964):  1339.2037, p-value:     0.0000\n",
      "\n",
      "Degrees of Freedom: model 1, resid 3964\n",
      "\n",
      "-----------------------Summary of Estimated Coefficients------------------------\n",
      "      Variable       Coef    Std Err     t-stat    p-value    CI 2.5%   CI 97.5%\n",
      "--------------------------------------------------------------------------------\n",
      "             x     0.0333     0.0009      36.60     0.0000     0.0315     0.0351\n",
      "     intercept     0.5000     0.0069      72.82     0.0000     0.4865     0.5135\n",
      "---------------------------------End of Summary---------------------------------\n",
      "\n"
     ]
    }
   ],
   "source": [
    "linmodel=ols(y=full_set['Team1Win'],x=full_set['Team2Seed']-full_set['Team1Seed'])\n",
    "print(linmodel)"
   ]
  },
  {
   "cell_type": "code",
   "execution_count": 15,
   "metadata": {
    "collapsed": true
   },
   "outputs": [],
   "source": [
    "game_to_predict['Pred'] = linmodel.predict(x=game_to_predict['TeamSeed2']-game_to_predict['TeamSeed1'])\n",
    "game_to_predict[['Id','Pred']].to_csv('seed_submission.csv',index=False)"
   ]
  },
  {
   "cell_type": "code",
   "execution_count": null,
   "metadata": {
    "collapsed": true
   },
   "outputs": [],
   "source": []
  }
 ],
 "metadata": {
  "kernelspec": {
   "display_name": "Python 3",
   "language": "python",
   "name": "python3"
  },
  "language_info": {
   "codemirror_mode": {
    "name": "ipython",
    "version": 3
   },
   "file_extension": ".py",
   "mimetype": "text/x-python",
   "name": "python",
   "nbconvert_exporter": "python",
   "pygments_lexer": "ipython3",
   "version": "3.5.1"
  }
 },
 "nbformat": 4,
 "nbformat_minor": 0
}
