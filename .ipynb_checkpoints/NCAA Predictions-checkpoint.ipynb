{
 "cells": [
  {
   "cell_type": "markdown",
   "metadata": {},
   "source": [
    "# Loading initial packages"
   ]
  },
  {
   "cell_type": "code",
   "execution_count": 1,
   "metadata": {
    "collapsed": false
   },
   "outputs": [],
   "source": [
    "import re\n",
    "import numpy\n",
    "import pandas as pd\n",
    "from pandas.stats.api import ols\n",
    "from subprocess import check_output"
   ]
  },
  {
   "cell_type": "markdown",
   "metadata": {
    "collapsed": true
   },
   "source": [
    "# Reading in the data"
   ]
  },
  {
   "cell_type": "code",
   "execution_count": 2,
   "metadata": {
    "collapsed": false
   },
   "outputs": [],
   "source": [
    "TourneySeeds = pd.read_csv('data/TourneySeeds.csv')\n",
    "SampleSubmission = pd.read_csv('data/SampleSubmission.csv')\n",
    "Seasons = pd.read_csv('data/Seasons.csv')\n",
    "Teams = pd.read_csv('data/Teams.csv')\n",
    "TourneySlots = pd.read_csv('data/TourneySlots.csv')\n",
    "TourneyDetailedResults = pd.read_csv('data/TourneyDetailedResults.csv')\n",
    "TourneyCompactResults = pd.read_csv('data/TourneyCompactResults.csv')\n",
    "team_dict = dict(zip(Teams['Team_Id'].values, Teams['Team_Name'].values))\n",
    "RegularSeasonCompact = pd.read_csv('data/RegularSeasonCompactResults.csv')\n",
    "TourneyDetailedResults['Wteam_name'] = TourneyDetailedResults['Wteam'].map(team_dict)\n",
    "TourneyDetailedResults['Lteam_name'] = TourneyDetailedResults['Lteam'].map(team_dict)"
   ]
  },
  {
   "cell_type": "markdown",
   "metadata": {},
   "source": [
    "# A quick look at the data"
   ]
  },
  {
   "cell_type": "code",
   "execution_count": 3,
   "metadata": {
    "collapsed": false
   },
   "outputs": [
    {
     "name": "stdout",
     "output_type": "stream",
     "text": [
      "   Season Seed  Team\n",
      "0    1985  W01  1207\n",
      "1    1985  W02  1210\n",
      "2    1985  W03  1228\n",
      "3    1985  W04  1260\n",
      "4    1985  W05  1374\n",
      "5    1985  W06  1208\n"
     ]
    }
   ],
   "source": [
    "print(TourneySeeds.head(6))"
   ]
  },
  {
   "cell_type": "code",
   "execution_count": 4,
   "metadata": {
    "collapsed": false
   },
   "outputs": [
    {
     "name": "stdout",
     "output_type": "stream",
     "text": [
      "   Season  Slot Strongseed Weakseed\n",
      "0    1985  R1W1        W01      W16\n",
      "1    1985  R1W2        W02      W15\n",
      "2    1985  R1W3        W03      W14\n",
      "3    1985  R1W4        W04      W13\n",
      "4    1985  R1W5        W05      W12\n",
      "5    1985  R1W6        W06      W11\n"
     ]
    }
   ],
   "source": [
    "print(TourneySlots.head(6))"
   ]
  },
  {
   "cell_type": "code",
   "execution_count": 5,
   "metadata": {
    "collapsed": false
   },
   "outputs": [
    {
     "name": "stdout",
     "output_type": "stream",
     "text": [
      "               Id  Pred\n",
      "0  2016_1112_1114   0.5\n",
      "1  2016_1112_1122   0.5\n",
      "2  2016_1112_1124   0.5\n",
      "3  2016_1112_1138   0.5\n",
      "4  2016_1112_1139   0.5\n",
      "5  2016_1112_1143   0.5\n"
     ]
    }
   ],
   "source": [
    "print(SampleSubmission.head(6))"
   ]
  },
  {
   "cell_type": "code",
   "execution_count": 6,
   "metadata": {
    "collapsed": false
   },
   "outputs": [
    {
     "name": "stdout",
     "output_type": "stream",
     "text": [
      "   Season     Dayzero Regionw    Regionx    Regiony    Regionz\n",
      "0    1985  10/29/1984    East       West    Midwest  Southeast\n",
      "1    1986  10/28/1985    East    Midwest  Southeast       West\n",
      "2    1987  10/27/1986    East  Southeast    Midwest       West\n",
      "3    1988   11/2/1987    East    Midwest  Southeast       West\n",
      "4    1989  10/31/1988    East       West    Midwest  Southeast\n",
      "5    1990  10/30/1989    East    Midwest  Southeast       West\n"
     ]
    }
   ],
   "source": [
    "print(Seasons.head(6))"
   ]
  },
  {
   "cell_type": "code",
   "execution_count": 7,
   "metadata": {
    "collapsed": false
   },
   "outputs": [
    {
     "name": "stdout",
     "output_type": "stream",
     "text": [
      "   Team_Id    Team_Name\n",
      "0     1101  Abilene Chr\n",
      "1     1102    Air Force\n",
      "2     1103        Akron\n",
      "3     1104      Alabama\n",
      "4     1105  Alabama A&M\n",
      "5     1106   Alabama St\n"
     ]
    }
   ],
   "source": [
    "print(Teams.head(6))"
   ]
  },
  {
   "cell_type": "code",
   "execution_count": 8,
   "metadata": {
    "collapsed": false
   },
   "outputs": [
    {
     "name": "stdout",
     "output_type": "stream",
     "text": [
      "   Season  Daynum  Wteam  Wscore  Lteam  Lscore Wloc  Numot  Wfgm  Wfga  \\\n",
      "0    2003     134   1421      92   1411      84    N      1    32    69   \n",
      "1    2003     136   1112      80   1436      51    N      0    31    66   \n",
      "2    2003     136   1113      84   1272      71    N      0    31    59   \n",
      "3    2003     136   1141      79   1166      73    N      0    29    53   \n",
      "4    2003     136   1143      76   1301      74    N      1    27    64   \n",
      "5    2003     136   1163      58   1140      53    N      0    17    52   \n",
      "\n",
      "      ...       Lfta  Lor  Ldr  Last  Lto  Lstl  Lblk  Lpf     Wteam_name  \\\n",
      "0     ...         31   17   28    16   15     5     0   22  UNC Asheville   \n",
      "1     ...          7    8   26    12   17    10     3   15        Arizona   \n",
      "2     ...         21   20   22    11   12     2     5   18     Arizona St   \n",
      "3     ...         17   14   17    20   21     6     6   21     C Michigan   \n",
      "4     ...         20   10   26    16   14     5     8   19     California   \n",
      "5     ...         13   15   26    11   11     8     4   22    Connecticut   \n",
      "\n",
      "    Lteam_name  \n",
      "0  TX Southern  \n",
      "1      Vermont  \n",
      "2      Memphis  \n",
      "3    Creighton  \n",
      "4     NC State  \n",
      "5          BYU  \n",
      "\n",
      "[6 rows x 36 columns]\n"
     ]
    }
   ],
   "source": [
    "print(TourneyDetailedResults.head(6))"
   ]
  },
  {
   "cell_type": "code",
   "execution_count": 9,
   "metadata": {
    "collapsed": false
   },
   "outputs": [
    {
     "name": "stdout",
     "output_type": "stream",
     "text": [
      "   Season  Daynum  Wteam  Wscore  Lteam  Lscore Wloc  Numot\n",
      "0    1985     136   1116      63   1234      54    N      0\n",
      "1    1985     136   1120      59   1345      58    N      0\n",
      "2    1985     136   1207      68   1250      43    N      0\n",
      "3    1985     136   1229      58   1425      55    N      0\n",
      "4    1985     136   1242      49   1325      38    N      0\n",
      "5    1985     136   1246      66   1449      58    N      0\n"
     ]
    }
   ],
   "source": [
    "print(TourneyCompactResults.head(6))"
   ]
  },
  {
   "cell_type": "markdown",
   "metadata": {},
   "source": [
    "# TrueSkill"
   ]
  },
  {
   "cell_type": "markdown",
   "metadata": {},
   "source": [
    "## Add the package"
   ]
  },
  {
   "cell_type": "code",
   "execution_count": 10,
   "metadata": {
    "collapsed": true
   },
   "outputs": [],
   "source": [
    "from trueskill import Rating, quality_1vs1, rate_1vs1"
   ]
  },
  {
   "cell_type": "markdown",
   "metadata": {},
   "source": [
    "## Data Cleaning\n",
    "- Remove all games before 2008 (three point line was introduced)"
   ]
  },
  {
   "cell_type": "code",
   "execution_count": 11,
   "metadata": {
    "collapsed": false
   },
   "outputs": [
    {
     "name": "stdout",
     "output_type": "stream",
     "text": [
      "       Season  Daynum  Wteam  Wscore  Lteam  Lscore Wloc  Numot\n",
      "97710    2008       0   1272     102   1404      71    H      0\n",
      "97711    2008       0   1350      44   1263      42    N      0\n",
      "97712    2008       1   1205      69   1105      55    N      0\n",
      "97713    2008       1   1246      67   1146      40    H      0\n",
      "97714    2008       1   1272      80   1350      63    H      0\n",
      "97715    2008       1   1404      66   1263      62    N      0\n"
     ]
    }
   ],
   "source": [
    "RegPost2008 = RegularSeasonCompact[RegularSeasonCompact['Season'] >= 2008]\n",
    "print(RegPost2008.head(6))"
   ]
  },
  {
   "cell_type": "markdown",
   "metadata": {},
   "source": [
    "## Apply TrueSkill to season data\n",
    "- For each season, calculate the TrueSkill of each team in the season"
   ]
  },
  {
   "cell_type": "code",
   "execution_count": 13,
   "metadata": {
    "collapsed": false
   },
   "outputs": [],
   "source": [
    "# initialize the environment\n",
    "env = TrueSkill()"
   ]
  },
  {
   "cell_type": "markdown",
   "metadata": {},
   "source": [
    "# (EXAMPLE) Seed-Based model"
   ]
  },
  {
   "cell_type": "markdown",
   "metadata": {},
   "source": [
    "## Extract seeds for each team"
   ]
  },
  {
   "cell_type": "code",
   "execution_count": 1,
   "metadata": {
    "collapsed": false
   },
   "outputs": [
    {
     "ename": "NameError",
     "evalue": "name 'TourneySeeds' is not defined",
     "output_type": "error",
     "traceback": [
      "\u001b[1;31m---------------------------------------------------------------------------\u001b[0m",
      "\u001b[1;31mNameError\u001b[0m                                 Traceback (most recent call last)",
      "\u001b[1;32m<ipython-input-1-c28a0bf4be48>\u001b[0m in \u001b[0;36m<module>\u001b[1;34m()\u001b[0m\n\u001b[1;32m----> 1\u001b[1;33m \u001b[0mTourneySeeds\u001b[0m\u001b[1;33m[\u001b[0m\u001b[1;34m'SeedNum'\u001b[0m\u001b[1;33m]\u001b[0m \u001b[1;33m=\u001b[0m \u001b[0mTourneySeeds\u001b[0m\u001b[1;33m[\u001b[0m\u001b[1;34m'Seed'\u001b[0m\u001b[1;33m]\u001b[0m\u001b[1;33m.\u001b[0m\u001b[0mapply\u001b[0m\u001b[1;33m(\u001b[0m\u001b[1;32mlambda\u001b[0m \u001b[0mx\u001b[0m\u001b[1;33m:\u001b[0m \u001b[0mre\u001b[0m\u001b[1;33m.\u001b[0m\u001b[0msub\u001b[0m\u001b[1;33m(\u001b[0m\u001b[1;34m\"[A-z+a-z]\"\u001b[0m\u001b[1;33m,\u001b[0m\u001b[1;34m\"\"\u001b[0m\u001b[1;33m,\u001b[0m\u001b[0mx\u001b[0m\u001b[1;33m,\u001b[0m\u001b[0mflags\u001b[0m\u001b[1;33m=\u001b[0m\u001b[0mre\u001b[0m\u001b[1;33m.\u001b[0m\u001b[0mIGNORECASE\u001b[0m\u001b[1;33m)\u001b[0m\u001b[1;33m)\u001b[0m\u001b[1;33m\u001b[0m\u001b[0m\n\u001b[0m\u001b[0;32m      2\u001b[0m \u001b[0mprint\u001b[0m\u001b[1;33m(\u001b[0m\u001b[0mTourneySeeds\u001b[0m\u001b[1;33m.\u001b[0m\u001b[0mtail\u001b[0m\u001b[1;33m(\u001b[0m\u001b[1;36m10\u001b[0m\u001b[1;33m)\u001b[0m\u001b[1;33m)\u001b[0m\u001b[1;33m\u001b[0m\u001b[0m\n",
      "\u001b[1;31mNameError\u001b[0m: name 'TourneySeeds' is not defined"
     ]
    }
   ],
   "source": [
    "TourneySeeds['SeedNum'] = TourneySeeds['Seed'].apply(lambda x: re.sub(\"[A-z+a-z]\",\"\",x,flags=re.IGNORECASE))\n",
    "print(TourneySeeds.tail(10))"
   ]
  },
  {
   "cell_type": "code",
   "execution_count": 15,
   "metadata": {
    "collapsed": false
   },
   "outputs": [
    {
     "name": "stdout",
     "output_type": "stream",
     "text": [
      "               Id  season  team1  team2  TeamSeed1  TeamSeed2\n",
      "0  2016_1112_1114    2016   1112   1114          6         12\n",
      "1  2016_1112_1122    2016   1112   1122          6         16\n",
      "2  2016_1112_1124    2016   1112   1124          6          5\n",
      "3  2016_1112_1138    2016   1112   1138          6         14\n",
      "4  2016_1112_1139    2016   1112   1139          6          9\n",
      "5  2016_1112_1143    2016   1112   1143          6          4\n",
      "6  2016_1112_1151    2016   1112   1151          6         12\n",
      "7  2016_1112_1153    2016   1112   1153          6          9\n",
      "8  2016_1112_1160    2016   1112   1160          6          8\n",
      "9  2016_1112_1163    2016   1112   1163          6          9\n"
     ]
    }
   ],
   "source": [
    "game_to_predict = pd.concat([SampleSubmission['Id'],SampleSubmission['Id'].str.split('_', expand=True)], axis=1)\n",
    "game_to_predict.rename(columns={0: 'season', 1: 'team1',2: 'team2'}, inplace=True)\n",
    "game_to_predict['season'] = pd.to_numeric(game_to_predict['season'])\n",
    "game_to_predict['team1'] = pd.to_numeric(game_to_predict['team1'])\n",
    "game_to_predict['team2'] = pd.to_numeric(game_to_predict['team2'])\n",
    "TourneySeeds['Season'] = pd.to_numeric(TourneySeeds['Season'])\n",
    "TourneySeeds['Team'] = pd.to_numeric(TourneySeeds['Team'])\n",
    "TourneySeeds['SeedNum'] = pd.to_numeric(TourneySeeds['SeedNum'])\n",
    "game_to_predict = pd.merge(game_to_predict,TourneySeeds[['Season','Team','SeedNum']].rename(columns={'Season': 'season', 'Team': 'team1','SeedNum':'TeamSeed1'}),how='left',on=['season','team1'])\n",
    "game_to_predict = pd.merge(game_to_predict,TourneySeeds[['Season','Team','SeedNum']].rename(columns={'Season': 'season', 'Team': 'team2','SeedNum':'TeamSeed2'}),how='left',on=['season','team2'])\n",
    "print(game_to_predict.head(10))"
   ]
  },
  {
   "cell_type": "markdown",
   "metadata": {},
   "source": [
    "## Join results to seeds"
   ]
  },
  {
   "cell_type": "code",
   "execution_count": 16,
   "metadata": {
    "collapsed": false
   },
   "outputs": [
    {
     "name": "stdout",
     "output_type": "stream",
     "text": [
      "   Season  Daynum  Wteam  Wscore  Lteam  Lscore Wloc  Numot  WSeedNum  \\\n",
      "0    1985     136   1116      63   1234      54    N      0         9   \n",
      "1    1985     136   1120      59   1345      58    N      0        11   \n",
      "2    1985     136   1207      68   1250      43    N      0         1   \n",
      "3    1985     136   1229      58   1425      55    N      0         9   \n",
      "4    1985     136   1242      49   1325      38    N      0         3   \n",
      "5    1985     136   1246      66   1449      58    N      0        12   \n",
      "\n",
      "   LSeedNum  \n",
      "0         8  \n",
      "1         6  \n",
      "2        16  \n",
      "3         8  \n",
      "4        14  \n",
      "5         5  \n"
     ]
    }
   ],
   "source": [
    "compact_results = pd.merge(TourneyCompactResults, TourneySeeds[['Season','Team','SeedNum']].rename(columns={'Team': 'Wteam','SeedNum':'WSeedNum'}), how='left', on=['Season','Wteam'])\n",
    "compact_results = pd.merge(compact_results, TourneySeeds[['Season','Team','SeedNum']].rename(columns={'Team': 'Lteam','SeedNum':'LSeedNum'}), how='left', on=['Season','Lteam'])\n",
    "print(compact_results.head(6))"
   ]
  },
  {
   "cell_type": "markdown",
   "metadata": {},
   "source": [
    "## Fix wins"
   ]
  },
  {
   "cell_type": "code",
   "execution_count": 17,
   "metadata": {
    "collapsed": false
   },
   "outputs": [
    {
     "name": "stdout",
     "output_type": "stream",
     "text": [
      "   Team1Seed  Team2Seed  Team1Win\n",
      "0          9          8         1\n",
      "1         11          6         1\n",
      "2          1         16         1\n",
      "3          9          8         1\n",
      "4          3         14         1\n",
      "5         12          5         1\n"
     ]
    }
   ],
   "source": [
    "set1 = compact_results[['WSeedNum','LSeedNum']].rename(columns={'WSeedNum': 'Team1Seed','LSeedNum':'Team2Seed'})\n",
    "set1['Team1Win'] = 1\n",
    "set2 = compact_results[['LSeedNum','WSeedNum']].rename(columns={'LSeedNum': 'Team1Seed','WSeedNum':'Team2Seed'})\n",
    "set2['Team1Win'] = 0\n",
    "full_set = pd.concat([set1,set2],ignore_index=True)\n",
    "full_set['Team1Seed'] = pd.to_numeric(full_set['Team1Seed'])\n",
    "full_set['Team2Seed'] = pd.to_numeric(full_set['Team2Seed'])\n",
    "full_set['Team1Win'] = pd.to_numeric(full_set['Team1Win'])\n",
    "\n",
    "print(full_set.head(6))"
   ]
  },
  {
   "cell_type": "markdown",
   "metadata": {},
   "source": [
    "## Linear model"
   ]
  },
  {
   "cell_type": "code",
   "execution_count": 18,
   "metadata": {
    "collapsed": false
   },
   "outputs": [
    {
     "name": "stderr",
     "output_type": "stream",
     "text": [
      "c:\\users\\hughsoong\\appdata\\local\\programs\\python\\python35\\lib\\site-packages\\IPython\\core\\interactiveshell.py:2885: FutureWarning: The pandas.stats.ols module is deprecated and will be removed in a future version. We refer to external packages like statsmodels, see some examples here: http://statsmodels.sourceforge.net/stable/regression.html\n",
      "  exec(code_obj, self.user_global_ns, self.user_ns)\n"
     ]
    },
    {
     "ename": "ImportError",
     "evalue": "No module named 'scikits'",
     "output_type": "error",
     "traceback": [
      "\u001b[1;31m---------------------------------------------------------------------------\u001b[0m",
      "\u001b[1;31mImportError\u001b[0m                               Traceback (most recent call last)",
      "\u001b[1;32mc:\\users\\hughsoong\\appdata\\local\\programs\\python\\python35\\lib\\site-packages\\pandas\\stats\\ols.py\u001b[0m in \u001b[0;36m__init__\u001b[1;34m(self, y, x, intercept, weights, nw_lags, nw_overlap)\u001b[0m\n\u001b[0;32m     57\u001b[0m         \u001b[1;32mtry\u001b[0m\u001b[1;33m:\u001b[0m\u001b[1;33m\u001b[0m\u001b[0m\n\u001b[1;32m---> 58\u001b[1;33m             \u001b[1;32mimport\u001b[0m \u001b[0mstatsmodels\u001b[0m\u001b[1;33m.\u001b[0m\u001b[0mapi\u001b[0m \u001b[1;32mas\u001b[0m \u001b[0msm\u001b[0m\u001b[1;33m\u001b[0m\u001b[0m\n\u001b[0m\u001b[0;32m     59\u001b[0m         \u001b[1;32mexcept\u001b[0m \u001b[0mImportError\u001b[0m\u001b[1;33m:\u001b[0m\u001b[1;33m\u001b[0m\u001b[0m\n",
      "\u001b[1;31mImportError\u001b[0m: No module named 'statsmodels'",
      "\nDuring handling of the above exception, another exception occurred:\n",
      "\u001b[1;31mImportError\u001b[0m                               Traceback (most recent call last)",
      "\u001b[1;32m<ipython-input-18-bcb00bb7ae9d>\u001b[0m in \u001b[0;36m<module>\u001b[1;34m()\u001b[0m\n\u001b[1;32m----> 1\u001b[1;33m \u001b[0mlinmodel\u001b[0m\u001b[1;33m=\u001b[0m\u001b[0mols\u001b[0m\u001b[1;33m(\u001b[0m\u001b[0my\u001b[0m\u001b[1;33m=\u001b[0m\u001b[0mfull_set\u001b[0m\u001b[1;33m[\u001b[0m\u001b[1;34m'Team1Win'\u001b[0m\u001b[1;33m]\u001b[0m\u001b[1;33m,\u001b[0m\u001b[0mx\u001b[0m\u001b[1;33m=\u001b[0m\u001b[0mfull_set\u001b[0m\u001b[1;33m[\u001b[0m\u001b[1;34m'Team2Seed'\u001b[0m\u001b[1;33m]\u001b[0m\u001b[1;33m-\u001b[0m\u001b[0mfull_set\u001b[0m\u001b[1;33m[\u001b[0m\u001b[1;34m'Team1Seed'\u001b[0m\u001b[1;33m]\u001b[0m\u001b[1;33m)\u001b[0m\u001b[1;33m\u001b[0m\u001b[0m\n\u001b[0m\u001b[0;32m      2\u001b[0m \u001b[0mprint\u001b[0m\u001b[1;33m(\u001b[0m\u001b[0mlinmodel\u001b[0m\u001b[1;33m)\u001b[0m\u001b[1;33m\u001b[0m\u001b[0m\n",
      "\u001b[1;32mc:\\users\\hughsoong\\appdata\\local\\programs\\python\\python35\\lib\\site-packages\\pandas\\stats\\interface.py\u001b[0m in \u001b[0;36mols\u001b[1;34m(**kwargs)\u001b[0m\n\u001b[0;32m    141\u001b[0m             \u001b[0mklass\u001b[0m \u001b[1;33m=\u001b[0m \u001b[0mMovingOLS\u001b[0m\u001b[1;33m\u001b[0m\u001b[0m\n\u001b[0;32m    142\u001b[0m \u001b[1;33m\u001b[0m\u001b[0m\n\u001b[1;32m--> 143\u001b[1;33m     \u001b[1;32mreturn\u001b[0m \u001b[0mklass\u001b[0m\u001b[1;33m(\u001b[0m\u001b[1;33m**\u001b[0m\u001b[0mkwargs\u001b[0m\u001b[1;33m)\u001b[0m\u001b[1;33m\u001b[0m\u001b[0m\n\u001b[0m",
      "\u001b[1;32mc:\\users\\hughsoong\\appdata\\local\\programs\\python\\python35\\lib\\site-packages\\pandas\\stats\\ols.py\u001b[0m in \u001b[0;36m__init__\u001b[1;34m(self, y, x, intercept, weights, nw_lags, nw_overlap)\u001b[0m\n\u001b[0;32m     58\u001b[0m             \u001b[1;32mimport\u001b[0m \u001b[0mstatsmodels\u001b[0m\u001b[1;33m.\u001b[0m\u001b[0mapi\u001b[0m \u001b[1;32mas\u001b[0m \u001b[0msm\u001b[0m\u001b[1;33m\u001b[0m\u001b[0m\n\u001b[0;32m     59\u001b[0m         \u001b[1;32mexcept\u001b[0m \u001b[0mImportError\u001b[0m\u001b[1;33m:\u001b[0m\u001b[1;33m\u001b[0m\u001b[0m\n\u001b[1;32m---> 60\u001b[1;33m             \u001b[1;32mimport\u001b[0m \u001b[0mscikits\u001b[0m\u001b[1;33m.\u001b[0m\u001b[0mstatsmodels\u001b[0m\u001b[1;33m.\u001b[0m\u001b[0mapi\u001b[0m \u001b[1;32mas\u001b[0m \u001b[0msm\u001b[0m\u001b[1;33m\u001b[0m\u001b[0m\n\u001b[0m\u001b[0;32m     61\u001b[0m \u001b[1;33m\u001b[0m\u001b[0m\n\u001b[0;32m     62\u001b[0m         \u001b[0mself\u001b[0m\u001b[1;33m.\u001b[0m\u001b[0m_x_orig\u001b[0m \u001b[1;33m=\u001b[0m \u001b[0mx\u001b[0m\u001b[1;33m\u001b[0m\u001b[0m\n",
      "\u001b[1;31mImportError\u001b[0m: No module named 'scikits'"
     ]
    }
   ],
   "source": [
    "linmodel=ols(y=full_set['Team1Win'],x=full_set['Team2Seed']-full_set['Team1Seed'])\n",
    "print(linmodel)"
   ]
  },
  {
   "cell_type": "code",
   "execution_count": null,
   "metadata": {
    "collapsed": true
   },
   "outputs": [],
   "source": [
    "game_to_predict['Pred'] = linmodel.predict(x=game_to_predict['TeamSeed2']-game_to_predict['TeamSeed1'])\n",
    "game_to_predict[['Id','Pred']].to_csv('seed_submission.csv',index=False)"
   ]
  }
 ],
 "metadata": {
  "kernelspec": {
   "display_name": "Python 3",
   "language": "python",
   "name": "python3"
  },
  "language_info": {
   "codemirror_mode": {
    "name": "ipython",
    "version": 3
   },
   "file_extension": ".py",
   "mimetype": "text/x-python",
   "name": "python",
   "nbconvert_exporter": "python",
   "pygments_lexer": "ipython3",
   "version": "3.5.1"
  }
 },
 "nbformat": 4,
 "nbformat_minor": 0
}
